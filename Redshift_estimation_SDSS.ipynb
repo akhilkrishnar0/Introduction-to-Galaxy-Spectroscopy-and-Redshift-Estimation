{
 "cells": [
  {
   "cell_type": "markdown",
   "id": "74ab36cb",
   "metadata": {},
   "source": [
    "@akhil krishna R"
   ]
  },
  {
   "cell_type": "markdown",
   "id": "6971ea64",
   "metadata": {},
   "source": [
    "# **Introduction to Galaxy Spectroscopy and Redshift Estimation**\n",
    "\n",
    "Understanding galaxy spectra is fundamental in extragalactic astronomy. By analyzing the light emitted or absorbed by galaxies, we can determine their physical properties, chemical composition, and motion relative to us. One of the most crucial measurements from spectra is the **redshift (z)**, which provides insights into the universe's expansion and the distance of galaxies.\n",
    "\n",
    "## **What is Spectroscopy?**\n",
    "Spectroscopy is the study of how light interacts with matter. When we observe a galaxy, we see a **spectrum**—a distribution of light intensity as a function of wavelength. This spectrum contains key **emission** and **absorption** lines, which correspond to specific atomic transitions in elements such as hydrogen, oxygen, sodium, and calcium.\n",
    "\n",
    "## **Key Spectral Features in Galaxies**\n",
    "Galaxy spectra contain both:\n",
    "\n",
    "- **Emission lines** – Produced by hot, ionized gas in star-forming regions (e.g., H-alpha, [O III]).  \n",
    "- **Absorption lines** – Formed when cooler gas absorbs specific wavelengths of light from stars (e.g., Ca II H & K, Na I D).  \n",
    "\n",
    "Each element has a characteristic set of spectral lines, which appear at fixed **rest-frame wavelengths** when measured in a laboratory. However, in galaxies moving away from us due to the expansion of the universe, these lines appear **shifted to longer (redder) wavelengths**—a phenomenon known as **redshift**.\n",
    "\n",
    "## **Redshift and Cosmic Expansion**\n",
    "Redshift (\\(z\\)) is defined as:\n",
    "\n",
    "$$ z = \\frac{\\lambda_{\\text{obs}} - \\lambda_{\\text{rest}}}{\\lambda_{\\text{rest}}} $$\n",
    "\n",
    "\n",
    "where $$\\lambda_{\\text{obs}}$$ is the observed wavelength of a spectral line, \n",
    "and $$\\lambda_{\\text{rest}}$$ is its rest-frame wavelength. \n",
    "A higher redshift means the galaxy is farther away and moving faster due to cosmic expansion.\n",
    "\n",
    "\n",
    "## **Workshop Demonstration: Estimating Redshift for NGC 3310**\n",
    "In this session, we will:\n",
    "\n",
    "✅ Download the SDSS spectrum.  \n",
    "✅ Identify key spectral lines in the observed data.  \n",
    "✅ Compare them to their rest-frame positions.  \n",
    "✅ Measure the shift of an absorption line (e.g., Ca II K) and calculate the redshift.  \n",
    "✅ Apply this shift to correct the spectrum and compare it with standard spectral features.  \n",
    "\n",
    "By the end of this exercise, you will gain hands-on experience in **analyzing galaxy spectra, identifying spectral lines, and estimating redshifts**—essential skills for observational astronomy!\n"
   ]
  },
  {
   "cell_type": "code",
   "execution_count": null,
   "id": "8dcb5e2a",
   "metadata": {},
   "outputs": [],
   "source": []
  },
  {
   "cell_type": "markdown",
   "id": "ad426d90",
   "metadata": {},
   "source": [
    "# Download the SDSS spectrum"
   ]
  },
  {
   "cell_type": "code",
   "execution_count": null,
   "id": "173f6846",
   "metadata": {},
   "outputs": [],
   "source": [
    "import numpy as np\n",
    "import matplotlib.pyplot as plt\n",
    "from astroquery.sdss import SDSS\n",
    "from astropy.io import fits\n",
    "from astropy import units as u\n",
    "from astropy.table import Table\n",
    "from astropy.coordinates import SkyCoord\n",
    "from astropy.modeling import models, fitting\n",
    "import pandas as pd"
   ]
  },
  {
   "cell_type": "code",
   "execution_count": 44,
   "id": "bf3ae8e7",
   "metadata": {},
   "outputs": [],
   "source": [
    "coords = SkyCoord.from_name(\"SDSS J121602.44+060418.0\")\n",
    "query_result = SDSS.query_region(coords, spectro=True)\n",
    "\n",
    "if query_result is None:\n",
    "    raise ValueError(\"No SDSS spectra found\")"
   ]
  },
  {
   "cell_type": "code",
   "execution_count": 49,
   "id": "0adc23a8",
   "metadata": {},
   "outputs": [
    {
     "data": {
      "text/html": [
       "<div><i>Table length=1</i>\n",
       "<table id=\"table2599051449440\" class=\"table-striped table-bordered table-condensed\">\n",
       "<thead><tr><th>ra</th><th>dec</th><th>objid</th><th>run</th><th>rerun</th><th>camcol</th><th>field</th><th>z</th><th>plate</th><th>mjd</th><th>fiberID</th><th>specobjid</th><th>run2d</th></tr></thead>\n",
       "<thead><tr><th>float64</th><th>float64</th><th>int64</th><th>int32</th><th>int32</th><th>int32</th><th>int32</th><th>float64</th><th>int32</th><th>int32</th><th>int32</th><th>int64</th><th>int32</th></tr></thead>\n",
       "<tr><td>184.010200451828</td><td>6.07166806853148</td><td>1237654606946762876</td><td>2126</td><td>301</td><td>6</td><td>432</td><td>0.1013739</td><td>844</td><td>52378</td><td>368</td><td>950360716341176320</td><td>26</td></tr>\n",
       "</table></div>"
      ],
      "text/plain": [
       "<Table length=1>\n",
       "       ra              dec        ...     specobjid      run2d\n",
       "    float64          float64      ...       int64        int32\n",
       "---------------- ---------------- ... ------------------ -----\n",
       "184.010200451828 6.07166806853148 ... 950360716341176320    26"
      ]
     },
     "execution_count": 49,
     "metadata": {},
     "output_type": "execute_result"
    }
   ],
   "source": [
    "query_result"
   ]
  },
  {
   "cell_type": "markdown",
   "id": "999ecef8",
   "metadata": {},
   "source": [
    "# Read and plot the spectrum"
   ]
  },
  {
   "cell_type": "code",
   "execution_count": 48,
   "id": "298f5fb1",
   "metadata": {},
   "outputs": [],
   "source": [
    "# Get the first spectrum\n",
    "spec_id = query_result[0]['specobjid']\n",
    "hdulist = SDSS.get_spectra(matches=query_result)[0]\n",
    "\n",
    "# Read spectrum data\n",
    "spec_data = hdulist[1].data\n",
    "wavelength = 10**spec_data['loglam']  # Convert log wavelength to linear scale\n",
    "flux = spec_data['flux']\n",
    "\n",
    "# Step 2: Plot the spectrum\n",
    "plt.figure(figsize=(15, 5))\n",
    "plt.plot(wavelength, flux, label='Galaxy Spectrum', color='k',ls='-')\n",
    "plt.xlabel('Wavelength (Å)')\n",
    "plt.ylabel('Flux (10^-17 erg/cm²/s/Å)')\n",
    "plt.title('SDSS Spectrum')\n",
    "plt.legend()\n",
    "#plt.grid()\n",
    "plt.show()"
   ]
  },
  {
   "cell_type": "markdown",
   "id": "dacfd4d2",
   "metadata": {},
   "source": [
    "# Standard emission and absorption lines"
   ]
  },
  {
   "cell_type": "code",
   "execution_count": 51,
   "id": "e148ee91",
   "metadata": {},
   "outputs": [
    {
     "data": {
      "text/html": [
       "<div>\n",
       "<style scoped>\n",
       "    .dataframe tbody tr th:only-of-type {\n",
       "        vertical-align: middle;\n",
       "    }\n",
       "\n",
       "    .dataframe tbody tr th {\n",
       "        vertical-align: top;\n",
       "    }\n",
       "\n",
       "    .dataframe thead th {\n",
       "        text-align: right;\n",
       "    }\n",
       "</style>\n",
       "<table border=\"1\" class=\"dataframe\">\n",
       "  <thead>\n",
       "    <tr style=\"text-align: right;\">\n",
       "      <th></th>\n",
       "      <th>Element</th>\n",
       "      <th>Type</th>\n",
       "      <th>Wavelength</th>\n",
       "    </tr>\n",
       "  </thead>\n",
       "  <tbody>\n",
       "    <tr>\n",
       "      <th>4</th>\n",
       "      <td>[O II]</td>\n",
       "      <td>Emission</td>\n",
       "      <td>3727</td>\n",
       "    </tr>\n",
       "    <tr>\n",
       "      <th>11</th>\n",
       "      <td>Ca II K</td>\n",
       "      <td>Absorption</td>\n",
       "      <td>3933</td>\n",
       "    </tr>\n",
       "    <tr>\n",
       "      <th>12</th>\n",
       "      <td>Ca II H</td>\n",
       "      <td>Absorption</td>\n",
       "      <td>3968</td>\n",
       "    </tr>\n",
       "    <tr>\n",
       "      <th>3</th>\n",
       "      <td>H-delta</td>\n",
       "      <td>Emission</td>\n",
       "      <td>4102</td>\n",
       "    </tr>\n",
       "    <tr>\n",
       "      <th>2</th>\n",
       "      <td>H-gamma</td>\n",
       "      <td>Emission</td>\n",
       "      <td>4341</td>\n",
       "    </tr>\n",
       "    <tr>\n",
       "      <th>1</th>\n",
       "      <td>H-beta</td>\n",
       "      <td>Emission</td>\n",
       "      <td>4861</td>\n",
       "    </tr>\n",
       "    <tr>\n",
       "      <th>5</th>\n",
       "      <td>[O III]</td>\n",
       "      <td>Emission</td>\n",
       "      <td>4959</td>\n",
       "    </tr>\n",
       "    <tr>\n",
       "      <th>6</th>\n",
       "      <td>[O III]</td>\n",
       "      <td>Emission</td>\n",
       "      <td>5007</td>\n",
       "    </tr>\n",
       "    <tr>\n",
       "      <th>13</th>\n",
       "      <td>Mg I</td>\n",
       "      <td>Absorption</td>\n",
       "      <td>5172</td>\n",
       "    </tr>\n",
       "    <tr>\n",
       "      <th>14</th>\n",
       "      <td>Na I D</td>\n",
       "      <td>Absorption</td>\n",
       "      <td>5892</td>\n",
       "    </tr>\n",
       "    <tr>\n",
       "      <th>9</th>\n",
       "      <td>[N II]</td>\n",
       "      <td>Emission</td>\n",
       "      <td>6548</td>\n",
       "    </tr>\n",
       "    <tr>\n",
       "      <th>0</th>\n",
       "      <td>H-alpha</td>\n",
       "      <td>Emission</td>\n",
       "      <td>6563</td>\n",
       "    </tr>\n",
       "    <tr>\n",
       "      <th>10</th>\n",
       "      <td>[N II]</td>\n",
       "      <td>Emission</td>\n",
       "      <td>6584</td>\n",
       "    </tr>\n",
       "    <tr>\n",
       "      <th>7</th>\n",
       "      <td>[S II]</td>\n",
       "      <td>Emission</td>\n",
       "      <td>6717</td>\n",
       "    </tr>\n",
       "    <tr>\n",
       "      <th>8</th>\n",
       "      <td>[S II]</td>\n",
       "      <td>Emission</td>\n",
       "      <td>6731</td>\n",
       "    </tr>\n",
       "  </tbody>\n",
       "</table>\n",
       "</div>"
      ],
      "text/plain": [
       "    Element        Type  Wavelength\n",
       "4    [O II]    Emission        3727\n",
       "11  Ca II K  Absorption        3933\n",
       "12  Ca II H  Absorption        3968\n",
       "3   H-delta    Emission        4102\n",
       "2   H-gamma    Emission        4341\n",
       "1    H-beta    Emission        4861\n",
       "5   [O III]    Emission        4959\n",
       "6   [O III]    Emission        5007\n",
       "13     Mg I  Absorption        5172\n",
       "14   Na I D  Absorption        5892\n",
       "9    [N II]    Emission        6548\n",
       "0   H-alpha    Emission        6563\n",
       "10   [N II]    Emission        6584\n",
       "7    [S II]    Emission        6717\n",
       "8    [S II]    Emission        6731"
      ]
     },
     "execution_count": 51,
     "metadata": {},
     "output_type": "execute_result"
    }
   ],
   "source": [
    "data = {\n",
    "    \"Element\": [\"H-alpha\", \"H-beta\", \"H-gamma\", \"H-delta\", \"[O II]\", \"[O III]\", \"[O III]\", \"[S II]\", \"[S II]\", \"[N II]\", \"[N II]\", \"Ca II K\", \"Ca II H\", \"Mg I\", \"Na I D\"],\n",
    "    \"Type\": [\"Emission\"] * 11 + [\"Absorption\"] * 4,\n",
    "    \"Wavelength\": [6563, 4861, 4341, 4102, 3727, 4959, 5007, 6717, 6731, 6548, 6584, 3933, 3968, 5172, 5892]\n",
    "}\n",
    "line_df = pd.DataFrame(data)\n",
    "\n",
    "# Sort by wavelength\n",
    "line_df = line_df.sort_values(by=\"Wavelength\")\n",
    "line_df"
   ]
  },
  {
   "cell_type": "markdown",
   "id": "6e18998c",
   "metadata": {},
   "source": [
    "# Plot the spectrum and overlay the standard lines"
   ]
  },
  {
   "cell_type": "code",
   "execution_count": 57,
   "id": "b266c6da",
   "metadata": {},
   "outputs": [
    {
     "name": "stderr",
     "output_type": "stream",
     "text": [
      "C:\\Users\\christ\\AppData\\Local\\Temp\\ipykernel_16208\\729849714.py:3: MatplotlibDeprecationWarning: The get_cmap function was deprecated in Matplotlib 3.7 and will be removed two minor releases later. Use ``matplotlib.colormaps[name]`` or ``matplotlib.colormaps.get_cmap(obj)`` instead.\n",
      "  colors = plt.cm.get_cmap(\"jet\", len(unique_elements))  # Use a qualitative colormap\n"
     ]
    }
   ],
   "source": [
    "\n",
    "# Define a colormap with unique colors for each spectral line\n",
    "unique_elements = line_df[\"Element\"].unique()\n",
    "colors = plt.cm.get_cmap(\"jet\", len(unique_elements))  # Use a qualitative colormap\n",
    "\n",
    "# Create a dictionary to map each element to a unique color\n",
    "element_colors = {element: colors(i) for i, element in enumerate(unique_elements)}\n",
    "\n",
    "# Plot the spectrum\n",
    "plt.figure(figsize=(15, 5))\n",
    "plt.plot(wavelength, flux, label=\"Galaxy spectrum\", color=\"black\")\n",
    "\n",
    "# Dictionary to store legend handles (to avoid duplicates)\n",
    "legend_handles = {}\n",
    "\n",
    "# Add vertical lines and labels\n",
    "for _, row in line_df.iterrows():\n",
    "    color = element_colors[row[\"Element\"]]  # Assign a unique color\n",
    "    plt.axvline(x=row[\"Wavelength\"], linestyle=\"--\", lw=1.5, color=color)\n",
    "    \n",
    "    # Store only unique labels\n",
    "    if row[\"Element\"] not in legend_handles:\n",
    "        legend_handles[row[\"Element\"]] = plt.Line2D([0], [0], linestyle=\"--\", color=color, label=row[\"Element\"])\n",
    "\n",
    "# Labeling and title\n",
    "plt.xlabel(\"Wavelength (Å)\")\n",
    "plt.ylabel(\"Flux (10^-17 erg/cm²/s/Å)\")\n",
    "plt.title(\"Rest-frame Spectral Lines Overlaid on Spectrum\")\n",
    "plt.legend(handles=list(legend_handles.values()), loc=\"upper right\", fontsize=10)  # Sorted legend\n",
    "plt.grid()\n",
    "plt.show()\n"
   ]
  },
  {
   "cell_type": "markdown",
   "id": "24d72410",
   "metadata": {},
   "source": [
    "# Calculate the redshift"
   ]
  },
  {
   "cell_type": "code",
   "execution_count": 64,
   "id": "57debb13",
   "metadata": {},
   "outputs": [
    {
     "name": "stdout",
     "output_type": "stream",
     "text": [
      "Estimated Redshift: 0.1004 ± 0.0550\n"
     ]
    }
   ],
   "source": [
    "\n",
    "caK_rest = 3933  # Rest-frame wavelength of Ca II K in Å\n",
    "caK_obs = 4328   # Observed peak of Ca II K\n",
    "\n",
    "# Calculate redshift\n",
    "z = (caK_obs - caK_rest) / caK_rest\n",
    "\n",
    "# Introduce 5% uncertainty in observed wavelength\n",
    "obs_error = 0.05 * caK_obs  # 5% of observed wavelength\n",
    "\n",
    "# Propagate error in redshift calculation\n",
    "z_error = obs_error / caK_rest\n",
    "\n",
    "# Print results\n",
    "print(f\"Estimated Redshift: {z:.4f} ± {z_error:.4f}\")\n"
   ]
  },
  {
   "cell_type": "markdown",
   "id": "650acd24",
   "metadata": {},
   "source": [
    "# Shift the spectrum to rest-frame "
   ]
  },
  {
   "cell_type": "code",
   "execution_count": 65,
   "id": "af0b7136",
   "metadata": {},
   "outputs": [
    {
     "name": "stderr",
     "output_type": "stream",
     "text": [
      "C:\\Users\\christ\\AppData\\Local\\Temp\\ipykernel_16208\\3189310467.py:6: MatplotlibDeprecationWarning: The get_cmap function was deprecated in Matplotlib 3.7 and will be removed two minor releases later. Use ``matplotlib.colormaps[name]`` or ``matplotlib.colormaps.get_cmap(obj)`` instead.\n",
      "  colors = plt.cm.get_cmap(\"jet\", len(unique_elements))  # Using a qualitative colormap\n"
     ]
    }
   ],
   "source": [
    "# Shift the spectrum to the rest-frame\n",
    "wavelength_rest = wavelength / (1 + z)\n",
    "\n",
    "# Define a colormap with unique colors for each spectral line\n",
    "unique_elements = line_df[\"Element\"].unique()\n",
    "colors = plt.cm.get_cmap(\"jet\", len(unique_elements))  # Using a qualitative colormap\n",
    "\n",
    "# Create a dictionary to map each element to a unique color\n",
    "element_colors = {element: colors(i) for i, element in enumerate(unique_elements)}\n",
    "\n",
    "# Plot the observed and rest-frame spectra\n",
    "plt.figure(figsize=(15, 5))\n",
    "plt.plot(wavelength, flux, label=\"Observed Spectrum\", color=\"black\", alpha=0.2)\n",
    "plt.plot(wavelength_rest, flux, label=\"Rest-frame Spectrum\", color=\"k\", alpha=0.8)\n",
    "\n",
    "# Sort line_df by wavelength for correct ordering\n",
    "line_df = line_df.sort_values(by=\"Wavelength\")\n",
    "\n",
    "# Dictionary to store legend handles (to avoid duplicates)\n",
    "legend_handles = {}\n",
    "\n",
    "# Overlay rest-frame spectral lines with unique colors\n",
    "for _, row in line_df.iterrows():\n",
    "    color = element_colors[row[\"Element\"]]  # Assign a unique color\n",
    "    plt.axvline(x=row[\"Wavelength\"], linestyle=\"--\", lw=1.5, color=color)\n",
    "    \n",
    "    # Store unique labels for legend\n",
    "    if row[\"Element\"] not in legend_handles:\n",
    "        legend_handles[row[\"Element\"]] = plt.Line2D([0], [0], linestyle=\"--\", color=color, label=row[\"Element\"])\n",
    "\n",
    "# Labels and legend\n",
    "plt.xlabel(\"Wavelength (Å)\")\n",
    "plt.ylabel(\"Flux (10^-17 erg/cm²/s/Å)\")\n",
    "plt.title(\"Observed vs Rest-frame Spectrum\")\n",
    "plt.legend(handles=list(legend_handles.values()), loc=\"upper right\", fontsize=10)\n",
    "#plt.grid()\n",
    "plt.show()\n"
   ]
  },
  {
   "cell_type": "markdown",
   "id": "e8ee19ee",
   "metadata": {},
   "source": [
    "# For further queries contact, Akhil Krishna R, email: akhil.r@res.christuniversity.in "
   ]
  },
  {
   "cell_type": "code",
   "execution_count": null,
   "id": "fb2b804d",
   "metadata": {},
   "outputs": [],
   "source": []
  },
  {
   "cell_type": "code",
   "execution_count": null,
   "id": "e730a462",
   "metadata": {},
   "outputs": [],
   "source": []
  },
  {
   "cell_type": "code",
   "execution_count": null,
   "id": "eddd7e4f",
   "metadata": {},
   "outputs": [],
   "source": []
  },
  {
   "cell_type": "code",
   "execution_count": null,
   "id": "649d8031",
   "metadata": {},
   "outputs": [],
   "source": []
  }
 ],
 "metadata": {
  "kernelspec": {
   "display_name": "Python 3 (ipykernel)",
   "language": "python",
   "name": "python3"
  },
  "language_info": {
   "codemirror_mode": {
    "name": "ipython",
    "version": 3
   },
   "file_extension": ".py",
   "mimetype": "text/x-python",
   "name": "python",
   "nbconvert_exporter": "python",
   "pygments_lexer": "ipython3",
   "version": "3.8.16"
  }
 },
 "nbformat": 4,
 "nbformat_minor": 5
}
